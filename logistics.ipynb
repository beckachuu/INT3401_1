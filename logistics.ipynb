{
  "nbformat": 4,
  "nbformat_minor": 0,
  "metadata": {
    "colab": {
      "name": "logistics.ipynb",
      "provenance": [],
      "collapsed_sections": [],
      "include_colab_link": true
    },
    "kernelspec": {
      "name": "python3",
      "display_name": "Python 3"
    },
    "language_info": {
      "name": "python"
    }
  },
  "cells": [
    {
      "cell_type": "markdown",
      "metadata": {
        "id": "view-in-github",
        "colab_type": "text"
      },
      "source": [
        "<a href=\"https://colab.research.google.com/github/beckachuu/INT3401_1/blob/logistic-regression/logistics.ipynb\" target=\"_parent\"><img src=\"https://colab.research.google.com/assets/colab-badge.svg\" alt=\"Open In Colab\"/></a>"
      ]
    },
    {
      "cell_type": "code",
      "execution_count": null,
      "metadata": {
        "id": "VF0LcU4RntKq"
      },
      "outputs": [],
      "source": [
        "import sklearn\n",
        "from sklearn import datasets\n",
        "from sklearn.linear_model import LogisticRegression\n",
        "from sklearn.tree import DecisionTreeClassifier\n",
        "from sklearn.ensemble import RandomForestClassifier\n",
        "from sklearn.metrics import classification_report, confusion_matrix\n",
        "from sklearn.model_selection import train_test_split, cross_val_predict\n",
        "import matplotlib.pyplot as plt\n",
        "import numpy as np\n",
        "%matplotlib inline"
      ]
    },
    {
      "cell_type": "code",
      "source": [
        "dataset = datasets.load_iris()"
      ],
      "metadata": {
        "id": "smGrR7KrnyGA"
      },
      "execution_count": null,
      "outputs": []
    },
    {
      "cell_type": "code",
      "source": [
        "dataset.keys()"
      ],
      "metadata": {
        "colab": {
          "base_uri": "https://localhost:8080/"
        },
        "id": "l-xk21mfoBAp",
        "outputId": "b97d0974-8473-4412-a974-51a16b7c9834"
      },
      "execution_count": null,
      "outputs": [
        {
          "output_type": "execute_result",
          "data": {
            "text/plain": [
              "dict_keys(['data', 'target', 'frame', 'target_names', 'DESCR', 'feature_names', 'filename', 'data_module'])"
            ]
          },
          "metadata": {},
          "execution_count": 4
        }
      ]
    },
    {
      "cell_type": "code",
      "source": [
        "dataset['data'].shape\n",
        "# d = 4"
      ],
      "metadata": {
        "colab": {
          "base_uri": "https://localhost:8080/"
        },
        "id": "hwQwZ3TtoEdJ",
        "outputId": "997ac6a0-f2bf-4d39-8a56-a8345cb8fd6e"
      },
      "execution_count": null,
      "outputs": [
        {
          "output_type": "execute_result",
          "data": {
            "text/plain": [
              "(150, 4)"
            ]
          },
          "metadata": {},
          "execution_count": 6
        }
      ]
    },
    {
      "cell_type": "code",
      "source": [
        "dataset.target"
      ],
      "metadata": {
        "colab": {
          "base_uri": "https://localhost:8080/"
        },
        "id": "tKxCWYProIVR",
        "outputId": "9e1d76cf-2ef3-4fa7-8e2a-48debfa3bbce"
      },
      "execution_count": null,
      "outputs": [
        {
          "output_type": "execute_result",
          "data": {
            "text/plain": [
              "array([0, 0, 0, 0, 0, 0, 0, 0, 0, 0, 0, 0, 0, 0, 0, 0, 0, 0, 0, 0, 0, 0,\n",
              "       0, 0, 0, 0, 0, 0, 0, 0, 0, 0, 0, 0, 0, 0, 0, 0, 0, 0, 0, 0, 0, 0,\n",
              "       0, 0, 0, 0, 0, 0, 1, 1, 1, 1, 1, 1, 1, 1, 1, 1, 1, 1, 1, 1, 1, 1,\n",
              "       1, 1, 1, 1, 1, 1, 1, 1, 1, 1, 1, 1, 1, 1, 1, 1, 1, 1, 1, 1, 1, 1,\n",
              "       1, 1, 1, 1, 1, 1, 1, 1, 1, 1, 1, 1, 2, 2, 2, 2, 2, 2, 2, 2, 2, 2,\n",
              "       2, 2, 2, 2, 2, 2, 2, 2, 2, 2, 2, 2, 2, 2, 2, 2, 2, 2, 2, 2, 2, 2,\n",
              "       2, 2, 2, 2, 2, 2, 2, 2, 2, 2, 2, 2, 2, 2, 2, 2, 2, 2])"
            ]
          },
          "metadata": {},
          "execution_count": 8
        }
      ]
    },
    {
      "cell_type": "code",
      "source": [
        "dataset.target_names"
      ],
      "metadata": {
        "colab": {
          "base_uri": "https://localhost:8080/"
        },
        "id": "3m9zc8d4oUXz",
        "outputId": "8c331443-8f34-4cc8-ca35-cdfc1d59d280"
      },
      "execution_count": null,
      "outputs": [
        {
          "output_type": "execute_result",
          "data": {
            "text/plain": [
              "array(['setosa', 'versicolor', 'virginica'], dtype='<U10')"
            ]
          },
          "metadata": {},
          "execution_count": 9
        }
      ]
    },
    {
      "cell_type": "code",
      "source": [
        "dataset.feature_names"
      ],
      "metadata": {
        "colab": {
          "base_uri": "https://localhost:8080/"
        },
        "id": "JkoLl9q0ocC9",
        "outputId": "f78f3cfd-225b-4e9c-ba2c-18b778985abb"
      },
      "execution_count": null,
      "outputs": [
        {
          "output_type": "execute_result",
          "data": {
            "text/plain": [
              "['sepal length (cm)',\n",
              " 'sepal width (cm)',\n",
              " 'petal length (cm)',\n",
              " 'petal width (cm)']"
            ]
          },
          "metadata": {},
          "execution_count": 10
        }
      ]
    },
    {
      "cell_type": "markdown",
      "source": [
        "Bài toán: $$x\\in\\mathbb R^4, y\\in\\{0,1,2\\}$$"
      ],
      "metadata": {
        "id": "8GjmPivpoyig"
      }
    },
    {
      "cell_type": "code",
      "source": [
        "model = LogisticRegression(max_iter=10000)\n",
        "X = dataset['data']\n",
        "y = dataset['target']\n",
        "xtr, xte, ytr, yte = train_test_split(X, y, test_size=0.3)\n",
        "model.fit(xtr, ytr)"
      ],
      "metadata": {
        "colab": {
          "base_uri": "https://localhost:8080/"
        },
        "id": "rXVrAGT-oltE",
        "outputId": "c1d9f62d-a000-40e4-b51f-9e84096a49c7"
      },
      "execution_count": null,
      "outputs": [
        {
          "output_type": "execute_result",
          "data": {
            "text/plain": [
              "LogisticRegression(max_iter=10000)"
            ]
          },
          "metadata": {},
          "execution_count": 21
        }
      ]
    },
    {
      "cell_type": "code",
      "source": [
        "ypred = model.predict(xte)"
      ],
      "metadata": {
        "id": "GxzKjfdTpVcj"
      },
      "execution_count": null,
      "outputs": []
    },
    {
      "cell_type": "code",
      "source": [
        "ypred"
      ],
      "metadata": {
        "colab": {
          "base_uri": "https://localhost:8080/"
        },
        "id": "srdeFrECpkSb",
        "outputId": "d4e6de21-d621-419c-f9be-70e78e67a15a"
      },
      "execution_count": null,
      "outputs": [
        {
          "output_type": "execute_result",
          "data": {
            "text/plain": [
              "array([2, 0, 2, 0, 1, 2, 1, 1, 1, 1, 1, 2, 0, 0, 1, 1, 0, 1, 2, 2, 0, 2,\n",
              "       0, 1, 1, 0, 2, 0, 1, 0, 1, 0, 0, 2, 1, 2, 1, 2, 1, 2, 2, 0, 1, 1,\n",
              "       2])"
            ]
          },
          "metadata": {},
          "execution_count": 23
        }
      ]
    },
    {
      "cell_type": "code",
      "source": [
        "yte"
      ],
      "metadata": {
        "colab": {
          "base_uri": "https://localhost:8080/"
        },
        "id": "d0934Un_plnz",
        "outputId": "1213b4a0-d0c5-41be-c6c5-f858afd1a33d"
      },
      "execution_count": null,
      "outputs": [
        {
          "output_type": "execute_result",
          "data": {
            "text/plain": [
              "array([2, 0, 2, 0, 1, 2, 1, 1, 1, 1, 1, 2, 0, 0, 1, 1, 0, 1, 2, 2, 0, 2,\n",
              "       0, 1, 1, 0, 2, 0, 1, 0, 1, 0, 0, 2, 1, 2, 1, 2, 1, 2, 2, 0, 1, 1,\n",
              "       2])"
            ]
          },
          "metadata": {},
          "execution_count": 24
        }
      ]
    },
    {
      "cell_type": "code",
      "source": [
        "print(classification_report(yte, ypred, target_names=dataset['target_names']))"
      ],
      "metadata": {
        "colab": {
          "base_uri": "https://localhost:8080/"
        },
        "id": "BCmEo-zCpn1I",
        "outputId": "cffe45be-0fb1-4613-a557-c96c8347fdf6"
      },
      "execution_count": null,
      "outputs": [
        {
          "output_type": "stream",
          "name": "stdout",
          "text": [
            "              precision    recall  f1-score   support\n",
            "\n",
            "      setosa       1.00      1.00      1.00        13\n",
            "  versicolor       1.00      1.00      1.00        18\n",
            "   virginica       1.00      1.00      1.00        14\n",
            "\n",
            "    accuracy                           1.00        45\n",
            "   macro avg       1.00      1.00      1.00        45\n",
            "weighted avg       1.00      1.00      1.00        45\n",
            "\n"
          ]
        }
      ]
    },
    {
      "cell_type": "code",
      "source": [
        "# 5-fold cross validation\n",
        "ypred = cross_val_predict(model, X, y, cv=10)"
      ],
      "metadata": {
        "id": "aY5xFRN8p7CX"
      },
      "execution_count": null,
      "outputs": []
    },
    {
      "cell_type": "code",
      "source": [
        "print(classification_report(y, ypred, target_names=dataset['target_names']))"
      ],
      "metadata": {
        "colab": {
          "base_uri": "https://localhost:8080/"
        },
        "id": "ezss-paarPb8",
        "outputId": "47ed492f-f5a2-4cfe-948f-4ebe49c34293"
      },
      "execution_count": null,
      "outputs": [
        {
          "output_type": "stream",
          "name": "stdout",
          "text": [
            "              precision    recall  f1-score   support\n",
            "\n",
            "      setosa       1.00      1.00      1.00        50\n",
            "  versicolor       0.98      0.94      0.96        50\n",
            "   virginica       0.94      0.98      0.96        50\n",
            "\n",
            "    accuracy                           0.97       150\n",
            "   macro avg       0.97      0.97      0.97       150\n",
            "weighted avg       0.97      0.97      0.97       150\n",
            "\n"
          ]
        }
      ]
    },
    {
      "cell_type": "code",
      "source": [
        "ypred = cross_val_predict(model, X, y, cv=50)\n",
        "print(classification_report(y, ypred, target_names=dataset['target_names']))"
      ],
      "metadata": {
        "colab": {
          "base_uri": "https://localhost:8080/"
        },
        "id": "_KBE-oPdrQil",
        "outputId": "8b30a1e9-772b-48ec-ab15-c07b2cb47f46"
      },
      "execution_count": null,
      "outputs": [
        {
          "output_type": "stream",
          "name": "stdout",
          "text": [
            "              precision    recall  f1-score   support\n",
            "\n",
            "      setosa       1.00      1.00      1.00        50\n",
            "  versicolor       0.96      0.94      0.95        50\n",
            "   virginica       0.94      0.96      0.95        50\n",
            "\n",
            "    accuracy                           0.97       150\n",
            "   macro avg       0.97      0.97      0.97       150\n",
            "weighted avg       0.97      0.97      0.97       150\n",
            "\n"
          ]
        }
      ]
    },
    {
      "cell_type": "code",
      "source": [
        "model = DecisionTreeClassifier()\n",
        "X = dataset['data']\n",
        "y = dataset['target']\n",
        "ypred = cross_val_predict(model, X, y, cv=10)\n",
        "print(classification_report(y, ypred, target_names=dataset['target_names']))"
      ],
      "metadata": {
        "colab": {
          "base_uri": "https://localhost:8080/"
        },
        "id": "ZwnxoREUrw9F",
        "outputId": "cfb5f56f-578e-4b4c-da99-c17313f43842"
      },
      "execution_count": null,
      "outputs": [
        {
          "output_type": "stream",
          "name": "stdout",
          "text": [
            "              precision    recall  f1-score   support\n",
            "\n",
            "      setosa       1.00      1.00      1.00        50\n",
            "  versicolor       0.94      0.94      0.94        50\n",
            "   virginica       0.94      0.94      0.94        50\n",
            "\n",
            "    accuracy                           0.96       150\n",
            "   macro avg       0.96      0.96      0.96       150\n",
            "weighted avg       0.96      0.96      0.96       150\n",
            "\n"
          ]
        }
      ]
    },
    {
      "cell_type": "code",
      "source": [
        "model = RandomForestClassifier(n_estimators=200)\n",
        "X = dataset['data']\n",
        "y = dataset['target']\n",
        "ypred = cross_val_predict(model, X, y, cv=10)\n",
        "print(classification_report(y, ypred, target_names=dataset['target_names']))"
      ],
      "metadata": {
        "colab": {
          "base_uri": "https://localhost:8080/"
        },
        "id": "sOejCy4LsW-r",
        "outputId": "33cc5bcb-0216-4d73-fd44-942736e92108"
      },
      "execution_count": null,
      "outputs": [
        {
          "output_type": "stream",
          "name": "stdout",
          "text": [
            "              precision    recall  f1-score   support\n",
            "\n",
            "      setosa       1.00      1.00      1.00        50\n",
            "  versicolor       0.94      0.94      0.94        50\n",
            "   virginica       0.94      0.94      0.94        50\n",
            "\n",
            "    accuracy                           0.96       150\n",
            "   macro avg       0.96      0.96      0.96       150\n",
            "weighted avg       0.96      0.96      0.96       150\n",
            "\n"
          ]
        }
      ]
    },
    {
      "cell_type": "code",
      "source": [
        "model = LogisticRegression(max_iter=10000)\n",
        "X = dataset['data']\n",
        "y = dataset['target']\n",
        "xtr, xte, ytr, yte = train_test_split(X, y, test_size=0.3)\n",
        "model.fit(xtr, ytr)"
      ],
      "metadata": {
        "colab": {
          "base_uri": "https://localhost:8080/"
        },
        "id": "NS--NVcCskmV",
        "outputId": "dc59b898-baae-4cf1-8279-8f7a0d69cba8"
      },
      "execution_count": null,
      "outputs": [
        {
          "output_type": "execute_result",
          "data": {
            "text/plain": [
              "LogisticRegression(max_iter=10000)"
            ]
          },
          "metadata": {},
          "execution_count": 43
        }
      ]
    },
    {
      "cell_type": "code",
      "source": [
        "model.predict(xte[10].reshape(1, -1))"
      ],
      "metadata": {
        "colab": {
          "base_uri": "https://localhost:8080/"
        },
        "id": "nU4AnxTDtDlo",
        "outputId": "4ff03e48-35a6-4cd6-a33e-65f288c7f859"
      },
      "execution_count": null,
      "outputs": [
        {
          "output_type": "execute_result",
          "data": {
            "text/plain": [
              "array([0])"
            ]
          },
          "metadata": {},
          "execution_count": 50
        }
      ]
    },
    {
      "cell_type": "code",
      "source": [
        "xte[0]"
      ],
      "metadata": {
        "colab": {
          "base_uri": "https://localhost:8080/"
        },
        "id": "t3OL-PBztG7L",
        "outputId": "983eaac4-9d7e-4a35-adb3-b6b2ecb3e8ea"
      },
      "execution_count": null,
      "outputs": [
        {
          "output_type": "execute_result",
          "data": {
            "text/plain": [
              "array([4.9, 2.5, 4.5, 1.7])"
            ]
          },
          "metadata": {},
          "execution_count": 46
        }
      ]
    },
    {
      "cell_type": "code",
      "source": [
        "yte[10]"
      ],
      "metadata": {
        "colab": {
          "base_uri": "https://localhost:8080/"
        },
        "id": "QsnEecJptLXn",
        "outputId": "fdc3fd48-5db6-48e0-e87a-5c04e6089cf9"
      },
      "execution_count": null,
      "outputs": [
        {
          "output_type": "execute_result",
          "data": {
            "text/plain": [
              "0"
            ]
          },
          "metadata": {},
          "execution_count": 51
        }
      ]
    },
    {
      "cell_type": "code",
      "source": [
        "dataset = datasets.load_digits()"
      ],
      "metadata": {
        "id": "ShnzYGFBtM5d"
      },
      "execution_count": null,
      "outputs": []
    },
    {
      "cell_type": "code",
      "source": [
        "dataset.keys()"
      ],
      "metadata": {
        "colab": {
          "base_uri": "https://localhost:8080/"
        },
        "id": "x5QWumoZxDDx",
        "outputId": "08f0951b-ac15-4155-d06b-a63a24bb0ecd"
      },
      "execution_count": null,
      "outputs": [
        {
          "output_type": "execute_result",
          "data": {
            "text/plain": [
              "dict_keys(['data', 'target', 'frame', 'feature_names', 'target_names', 'images', 'DESCR'])"
            ]
          },
          "metadata": {},
          "execution_count": 54
        }
      ]
    },
    {
      "cell_type": "code",
      "source": [
        "dataset['data'].shape"
      ],
      "metadata": {
        "colab": {
          "base_uri": "https://localhost:8080/"
        },
        "id": "lf8Z_R_9xGz9",
        "outputId": "e73c8d00-a01f-4199-d4c4-af34d1755d26"
      },
      "execution_count": null,
      "outputs": [
        {
          "output_type": "execute_result",
          "data": {
            "text/plain": [
              "(1797, 64)"
            ]
          },
          "metadata": {},
          "execution_count": 55
        }
      ]
    },
    {
      "cell_type": "code",
      "source": [
        "dataset['images'].shape"
      ],
      "metadata": {
        "colab": {
          "base_uri": "https://localhost:8080/"
        },
        "id": "K7M_gOzsxM-r",
        "outputId": "dfb6b5a5-1a67-4389-d4f3-8ca84b02ccd4"
      },
      "execution_count": null,
      "outputs": [
        {
          "output_type": "execute_result",
          "data": {
            "text/plain": [
              "(1797, 8, 8)"
            ]
          },
          "metadata": {},
          "execution_count": 56
        }
      ]
    },
    {
      "cell_type": "code",
      "source": [
        "X, y = dataset['data'], dataset['target']"
      ],
      "metadata": {
        "id": "qCDOiqX9xSXC"
      },
      "execution_count": null,
      "outputs": []
    },
    {
      "cell_type": "code",
      "source": [
        "def show_images(X, y, ypred=None):\n",
        "  nrows = len(y) // 6 + (len(y) % 6 > 0)\n",
        "  ncols = 6\n",
        "  plt.subplots(nrows, ncols, figsize=(20, 10))\n",
        "  for i in range(len(X)):\n",
        "    img = X[i].reshape(8, 8)\n",
        "    label = y[i]\n",
        "    plt.subplot(nrows, ncols, i+1)\n",
        "    plt.imshow(img, cmap='gray')\n",
        "    if ypred is None:\n",
        "      plt.title(f'label={label}')\n",
        "    else:\n",
        "      plt.title(f'label={label} ypred={ypred[i]}')\n",
        "  plt.show()"
      ],
      "metadata": {
        "id": "dzOXRXu0xaG5"
      },
      "execution_count": null,
      "outputs": []
    },
    {
      "cell_type": "code",
      "source": [
        "show_images(X[:12], y[:12])"
      ],
      "metadata": {
        "colab": {
          "base_uri": "https://localhost:8080/",
          "height": 355
        },
        "id": "Qk2yEJYjyTxc",
        "outputId": "6d713462-5a1d-4b6e-8902-7edd8da8c4b6"
      },
      "execution_count": null,
      "outputs": [
        {
          "output_type": "display_data",
          "data": {
            "text/plain": [
              "<Figure size 1440x720 with 12 Axes>"
            ],
            "image/png": "[encoded data removed]"
          },
          "metadata": {
            "needs_background": "light"
          }
        }
      ]
    },
    {
      "cell_type": "code",
      "source": [
        "model = LogisticRegression(max_iter=10000)\n",
        "ypred = cross_val_predict(model, X, y, cv=10)"
      ],
      "metadata": {
        "id": "wtfVe-b2yXmf"
      },
      "execution_count": null,
      "outputs": []
    },
    {
      "cell_type": "code",
      "source": [
        "show_images(X[:54], y[:54], ypred[:54])"
      ],
      "metadata": {
        "colab": {
          "base_uri": "https://localhost:8080/",
          "height": 438
        },
        "id": "10vLrGBfzYXP",
        "outputId": "cc5c3873-7f5b-481e-e835-82e2daf19b30"
      },
      "execution_count": null,
      "outputs": [
        {
          "output_type": "display_data",
          "data": {
            "text/plain": [
              "<Figure size 1440x720 with 54 Axes>"
            ],
            "image/png": "[encoded data removed]"
          },
          "metadata": {
            "needs_background": "light"
          }
        }
      ]
    },
    {
      "cell_type": "code",
      "source": [
        "print(classification_report(y, ypred))"
      ],
      "metadata": {
        "colab": {
          "base_uri": "https://localhost:8080/"
        },
        "id": "HnoWMzpQ0L_S",
        "outputId": "23143871-1dde-4f18-c120-f7be937b8642"
      },
      "execution_count": null,
      "outputs": [
        {
          "output_type": "stream",
          "name": "stdout",
          "text": [
            "              precision    recall  f1-score   support\n",
            "\n",
            "           0       0.97      0.98      0.97       178\n",
            "           1       0.89      0.90      0.90       182\n",
            "           2       0.97      0.97      0.97       177\n",
            "           3       0.96      0.91      0.94       183\n",
            "           4       0.95      0.93      0.94       181\n",
            "           5       0.93      0.92      0.93       182\n",
            "           6       0.93      0.97      0.95       181\n",
            "           7       0.97      0.91      0.94       179\n",
            "           8       0.88      0.87      0.87       174\n",
            "           9       0.84      0.92      0.88       180\n",
            "\n",
            "    accuracy                           0.93      1797\n",
            "   macro avg       0.93      0.93      0.93      1797\n",
            "weighted avg       0.93      0.93      0.93      1797\n",
            "\n"
          ]
        }
      ]
    },
    {
      "cell_type": "code",
      "source": [
        "def train_binary_logistics(X, y, n_epoch=20000, eps=1e-6, learning_rate=1e-2):\n",
        "  ## return w, w0\n",
        "  n, d = X.shape\n",
        "  w, w0 = np.zeros(d), 0\n",
        "  for epoch in range(n_epoch):\n",
        "    ## decision score\n",
        "    f = np.dot(X, w) + w0\n",
        "    ## class 1 probability\n",
        "    mu = 1. / (1+np.exp(-f))\n",
        "    ## loss function\n",
        "    ell = np.sum(-y * np.log(mu+eps) - (1-y) * np.log(1-mu+eps))\n",
        "\n",
        "    ## gradients\n",
        "    dell_dw = np.sum(np.reshape(mu - y, (n,-1))*X, axis=0)\n",
        "    dell_dw0 = np.sum(mu - y)\n",
        "\n",
        "    ## gradient descent updates\n",
        "    w = w - learning_rate / ((epoch+1)**0.5) * dell_dw\n",
        "    w0 = w0 - learning_rate / ((epoch+1)**0.5) * dell_dw0\n",
        "\n",
        "    if epoch % (n_epoch // 10) == 0 or epoch == n_epoch-1:\n",
        "      print(epoch, ell, dell_dw)\n",
        "  \n",
        "  return w, w0\n",
        "\n",
        "def predict_binary_logistics(X, w, w0):\n",
        "  n = X.shape[0]\n",
        "  f = np.dot(X, w) + w0\n",
        "  y = np.zeros(n, dtype=np.int32)\n",
        "  y[f > 0] = 1\n",
        "  return y\n",
        "\n",
        "dataset = datasets.load_iris()\n",
        "# dataset = datasets.load_digits()\n",
        "X, y = dataset['data'], dataset['target']\n",
        "y[y!=1] = 0\n",
        "\n",
        "xtr, xte, ytr, yte = train_test_split(X, y, test_size=0.3)\n",
        "\n",
        "w, w0 = train_binary_logistics(xtr, ytr, n_epoch=30000, learning_rate=1e-1)\n",
        "ypred = predict_binary_logistics(xte, w, w0)\n",
        "print(classification_report(yte, ypred))"
      ],
      "metadata": {
        "id": "oeflRoY50Vvh",
        "colab": {
          "base_uri": "https://localhost:8080/"
        },
        "outputId": "46e2d0a3-6952-4220-9bef-7d6f4420f47c"
      },
      "execution_count": null,
      "outputs": [
        {
          "output_type": "stream",
          "name": "stdout",
          "text": [
            "0 72.78024395900425 [73.8  51.65 30.75 10.3 ]\n",
            "3000 53.04330542314077 [ 1.01487892  0.08546682  0.62791275 -0.30261752]\n",
            "6000 52.71240083023015 [-0.01331579  0.02482498  0.03534977 -0.0665584 ]\n",
            "9000 52.69624387186295 [-0.00457313  0.01375407  0.01235767 -0.02196205]\n",
            "12000 52.6922971595577 [-0.00105728  0.00796692  0.00490089 -0.00879583]\n",
            "15000 52.690729091354456 [ 0.00012394  0.00519023  0.00210117 -0.00387578]\n",
            "18000 52.68995083808744 [ 0.00050352  0.00367017  0.00093221 -0.00180419]\n",
            "21000 52.68951938042661 [ 0.00059316  0.00274258  0.00040829 -0.00086088]\n",
            "24000 52.68926401436081 [ 0.00057629  0.00212868  0.0001627  -0.0004075 ]\n",
            "27000 52.68910594249156 [ 5.23057357e-04  1.69732082e-03  4.50175324e-05 -1.81632706e-04]\n",
            "29999 52.68900475404304 [ 4.61175596e-04  1.38056149e-03 -1.11384733e-05 -6.68843695e-05]\n",
            "              precision    recall  f1-score   support\n",
            "\n",
            "           0       0.86      0.91      0.89        34\n",
            "           1       0.67      0.55      0.60        11\n",
            "\n",
            "    accuracy                           0.82        45\n",
            "   macro avg       0.76      0.73      0.74        45\n",
            "weighted avg       0.81      0.82      0.82        45\n",
            "\n"
          ]
        }
      ]
    },
    {
      "cell_type": "code",
      "source": [
        "plt.scatter(X[:,0], X[:,1], c=y)"
      ],
      "metadata": {
        "colab": {
          "base_uri": "https://localhost:8080/",
          "height": 286
        },
        "id": "XFH9IiJTpcnI",
        "outputId": "7fb89167-2de7-458c-af7c-cc1124fe5b56"
      },
      "execution_count": null,
      "outputs": [
        {
          "output_type": "execute_result",
          "data": {
            "text/plain": [
              "<matplotlib.collections.PathCollection at 0x7f6f9a504b90>"
            ]
          },
          "metadata": {},
          "execution_count": 27
        },
        {
          "output_type": "display_data",
          "data": {
            "text/plain": [
              "<Figure size 432x288 with 1 Axes>"
            ],
            "image/png": "[encoded data removed]"
          },
          "metadata": {
            "needs_background": "light"
          }
        }
      ]
    },
    {
      "cell_type": "code",
      "source": [
        "def train_multiclass_logistics(X, y, n_epoch=1, eps=1e-6, learning_rate=1e-2):\n",
        "  n, d = X.shape[:2]\n",
        "  C = len(np.unique(y))\n",
        "  W, W0 = np.zeros((d, C)), np.zeros((1, C))\n",
        "\n",
        "  for epoch in range(n_epoch):\n",
        "    ## decision score: n x C\n",
        "    f = np.dot(X, W) + W0\n",
        "\n",
        "    ## mu = softmax(f)\n",
        "    exp_f = np.exp( f - np.max(f, axis=1).reshape((n,1)) )\n",
        "    mu = exp_f / np.sum(exp_f, axis=1).reshape((-1,1))\n",
        "\n",
        "    ## loss function\n",
        "    ell = np.sum(-np.log(mu[range(n), y]+eps))\n",
        "\n",
        "    ## gradient\n",
        "    coeff = mu.copy()\n",
        "    coeff[range(n), y] -= 1\n",
        "    dell_dW = np.dot(X.T, coeff) ## d x C\n",
        "    dell_dW0 = np.sum(coeff, axis=0).reshape((1, C))\n",
        "\n",
        "    ## updates\n",
        "    W  =  W - learning_rate / ((epoch+1)**0.5) * dell_dW\n",
        "    W0 = W0 - learning_rate / ((epoch+1)**0.5) * dell_dW0\n",
        "\n",
        "    if epoch % (n_epoch // 10) == 0 or epoch == n_epoch-1:\n",
        "      print(f\"{epoch}, {ell:.2f}, {np.sum(np.abs(dell_dW)):.4f}, {np.sum(np.abs(dell_dW0)):.4f}\")\n",
        "      # print(W, W0)\n",
        "\n",
        "  return W, W0\n",
        "\n",
        "def predict_multiclass_logistics(X, W, W0):\n",
        "  n = X.shape[0]\n",
        "  f = np.dot(X, W) + W0\n",
        "  y = np.argmax(f, axis=1)\n",
        "  return y\n",
        "\n",
        "\n",
        "# dataset = datasets.load_iris()\n",
        "dataset = datasets.load_digits()\n",
        "X, y = dataset['data'], dataset['target']\n",
        "\n",
        "xtr, xte, ytr, yte = train_test_split(X, y, test_size=0.3)\n",
        "W, W0 = train_multiclass_logistics(xtr, ytr, n_epoch=50000, learning_rate=1e-1)\n",
        "ypred = predict_multiclass_logistics(xte, W, W0)\n",
        "print(classification_report(yte, ypred))"
      ],
      "metadata": {
        "colab": {
          "base_uri": "https://localhost:8080/"
        },
        "id": "_NrQDDqUpgo5",
        "outputId": "4baf3836-44bf-42b5-b520-f70163392c33"
      },
      "execution_count": null,
      "outputs": [
        {
          "output_type": "stream",
          "name": "stdout",
          "text": [
            "0, 2894.34, 156352.8000, 37.6000\n",
            "5000, 128.18, 5467.0315, 17.4125\n",
            "10000, 0.04, 2.5020, 0.0037\n",
            "15000, 0.01, 0.5950, 0.0009\n",
            "20000, 0.00, 0.3698, 0.0006\n",
            "25000, 0.00, 0.2778, 0.0004\n",
            "30000, 0.00, 0.2270, 0.0003\n",
            "35000, 0.00, 0.1944, 0.0003\n",
            "40000, 0.00, 0.1715, 0.0003\n",
            "45000, 0.00, 0.1545, 0.0002\n",
            "49999, 0.00, 0.1413, 0.0002\n",
            "              precision    recall  f1-score   support\n",
            "\n",
            "           0       1.00      1.00      1.00        53\n",
            "           1       0.98      0.93      0.95        54\n",
            "           2       1.00      0.98      0.99        50\n",
            "           3       0.94      0.95      0.94        61\n",
            "           4       0.94      1.00      0.97        49\n",
            "           5       0.93      0.96      0.95        55\n",
            "           6       1.00      0.96      0.98        52\n",
            "           7       1.00      0.96      0.98        49\n",
            "           8       0.89      0.96      0.92        51\n",
            "           9       0.94      0.91      0.92        66\n",
            "\n",
            "    accuracy                           0.96       540\n",
            "   macro avg       0.96      0.96      0.96       540\n",
            "weighted avg       0.96      0.96      0.96       540\n",
            "\n"
          ]
        }
      ]
    },
    {
      "cell_type": "code",
      "source": [
        "print(confusion_matrix(yte, ypred))"
      ],
      "metadata": {
        "colab": {
          "base_uri": "https://localhost:8080/"
        },
        "id": "QJiDJDfUxq8D",
        "outputId": "d28c9dfa-071b-45d2-e9f7-4b74dbd3efbd"
      },
      "execution_count": null,
      "outputs": [
        {
          "output_type": "stream",
          "name": "stdout",
          "text": [
            "[[53  0  0  0  0  0  0  0  0  0]\n",
            " [ 0 50  0  0  1  0  0  0  3  0]\n",
            " [ 0  0 49  1  0  0  0  0  0  0]\n",
            " [ 0  0  0 58  0  2  0  0  0  1]\n",
            " [ 0  0  0  0 49  0  0  0  0  0]\n",
            " [ 0  0  0  1  0 53  0  0  0  1]\n",
            " [ 0  1  0  0  0  0 50  0  1  0]\n",
            " [ 0  0  0  0  0  0  0 47  0  2]\n",
            " [ 0  0  0  0  0  2  0  0 49  0]\n",
            " [ 0  0  0  2  2  0  0  0  2 60]]\n"
          ]
        }
      ]
    },
    {
      "cell_type": "code",
      "source": [
        ""
      ],
      "metadata": {
        "id": "XVtFcJ1u6lKr"
      },
      "execution_count": null,
      "outputs": []
    }
  ]
}